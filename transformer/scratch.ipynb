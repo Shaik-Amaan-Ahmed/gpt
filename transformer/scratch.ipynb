{
 "cells": [
  {
   "cell_type": "code",
   "execution_count": 3,
   "metadata": {},
   "outputs": [],
   "source": [
    "import torch\n",
    "from torch.utils.data import Dataset, DataLoader\n",
    "import tiktoken"
   ]
  },
  {
   "cell_type": "code",
   "execution_count": 5,
   "metadata": {},
   "outputs": [],
   "source": [
    "tokenizer = tiktoken.get_encoding(\"gpt2\")"
   ]
  },
  {
   "cell_type": "code",
   "execution_count": 13,
   "metadata": {},
   "outputs": [],
   "source": [
    "class GPTDatasetV1(Dataset):\n",
    "    def __init__(self,text,tokenizer,max_length,stride):\n",
    "        self.input_ids = []\n",
    "        self.target_ids = []\n",
    "\n",
    "        token_ids = tokenizer.encode(text,allowed_special={\"<|endoftext|>\"})\n",
    "\n",
    "        for i in range(0,len(token_ids) - max_length,stride):\n",
    "            input_chunks = token_ids[i:i+max_length]\n",
    "            output_chunks = token_ids[i+1:i+max_length + 1]\n",
    "            self.input_ids.append(torch.tensor(input_chunks))\n",
    "            self.target_ids.append(torch.tensor(output_chunks))\n",
    "\n",
    "    def __len__(self):\n",
    "        return len(self.input_ids)\n",
    "    \n",
    "    def __getitem__(self,idx):\n",
    "        return self.input_ids[idx],self.target_ids[idx]\n"
   ]
  },
  {
   "cell_type": "code",
   "execution_count": 20,
   "metadata": {},
   "outputs": [],
   "source": [
    "def create_dataset_loaderv1(txt,batch_size=4,max_length = 256,stride = 128,shuffle = False,drop_last = True,num_workers = 0):\n",
    "    tokenizer = tiktoken.get_encoding(\"gpt2\")\n",
    "    dataset = GPTDatasetV1(txt,tokenizer=tokenizer,max_length=max_length,stride=stride)\n",
    "    return DataLoader(\n",
    "        dataset,\n",
    "        batch_size=batch_size,\n",
    "        shuffle = shuffle,\n",
    "        num_workers = num_workers,\n",
    "        drop_last=drop_last\n",
    "    )"
   ]
  },
  {
   "cell_type": "code",
   "execution_count": 21,
   "metadata": {},
   "outputs": [],
   "source": [
    "txt = \"The quick brown fox jumps over the lazy dog. \" * 10  # Repeat sentence to create a long text\n",
    "dataloader = create_dataset_loaderv1(txt, batch_size=2, max_length=10, stride=5)\n"
   ]
  },
  {
   "cell_type": "code",
   "execution_count": 22,
   "metadata": {},
   "outputs": [
    {
     "name": "stdout",
     "output_type": "stream",
     "text": [
      "Batch 0:\n",
      "[tensor([[  464,  2068,  7586, 21831, 18045,   625,   262, 16931,  3290,    13],\n",
      "        [  625,   262, 16931,  3290,    13,   383,  2068,  7586, 21831, 18045]]), tensor([[ 2068,  7586, 21831, 18045,   625,   262, 16931,  3290,    13,   383],\n",
      "        [  262, 16931,  3290,    13,   383,  2068,  7586, 21831, 18045,   625]])]\n",
      "Batch 1:\n",
      "[tensor([[  383,  2068,  7586, 21831, 18045,   625,   262, 16931,  3290,    13],\n",
      "        [  625,   262, 16931,  3290,    13,   383,  2068,  7586, 21831, 18045]]), tensor([[ 2068,  7586, 21831, 18045,   625,   262, 16931,  3290,    13,   383],\n",
      "        [  262, 16931,  3290,    13,   383,  2068,  7586, 21831, 18045,   625]])]\n",
      "Batch 2:\n",
      "[tensor([[  383,  2068,  7586, 21831, 18045,   625,   262, 16931,  3290,    13],\n",
      "        [  625,   262, 16931,  3290,    13,   383,  2068,  7586, 21831, 18045]]), tensor([[ 2068,  7586, 21831, 18045,   625,   262, 16931,  3290,    13,   383],\n",
      "        [  262, 16931,  3290,    13,   383,  2068,  7586, 21831, 18045,   625]])]\n"
     ]
    }
   ],
   "source": [
    "for batch_num, batch in enumerate(dataloader):\n",
    "    print(f\"Batch {batch_num}:\")\n",
    "    print(batch)  # Print tokenized sequences\n",
    "    if batch_num == 2:  # Stop after 3 batches for testing\n",
    "        break"
   ]
  },
  {
   "cell_type": "code",
   "execution_count": null,
   "metadata": {},
   "outputs": [],
   "source": []
  }
 ],
 "metadata": {
  "kernelspec": {
   "display_name": ".venv",
   "language": "python",
   "name": "python3"
  },
  "language_info": {
   "codemirror_mode": {
    "name": "ipython",
    "version": 3
   },
   "file_extension": ".py",
   "mimetype": "text/x-python",
   "name": "python",
   "nbconvert_exporter": "python",
   "pygments_lexer": "ipython3",
   "version": "3.12.7"
  }
 },
 "nbformat": 4,
 "nbformat_minor": 2
}
