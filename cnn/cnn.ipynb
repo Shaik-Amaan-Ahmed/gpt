{
 "cells": [
  {
   "cell_type": "code",
   "execution_count": 39,
   "metadata": {},
   "outputs": [],
   "source": [
    "import numpy as np\n",
    "import torch"
   ]
  },
  {
   "cell_type": "code",
   "execution_count": null,
   "metadata": {},
   "outputs": [],
   "source": [
    "class Conv2D():\n",
    "    def __init__(self,in_channels,out_channels,kernel_size,stride = 1,padding=0):\n",
    "        self.in_channels = in_channels\n",
    "        self.out_channels = out_channels\n",
    "        self.kernel_size = kernel_size\n",
    "        self.stride = 1\n",
    "        self.padding = 1\n",
    "\n",
    "        self.weights = np.random.randn(out_channels,in_channels,kernel_size,kernel_size)* np.sqrt(1. / (in_channels * kernel_size * kernel_size))\n",
    "        self.bias = np.zeros((out_channels, 1))\n",
    "\n",
    "    def forward(self,X):\n",
    "        batch_size,in_channels,H,W = X.shape\n",
    "        assert in_channels == self.in_channels\n",
    "\n",
    "        H_out = (H + 2*self.padding - self.kernel_size) // self.stride + 1\n",
    "        W_out = (W + 2*self.padding - self.kernel_size) // self.stride + 1\n",
    " \n",
    "        X_padded = np.pad(X,((0,0),(0,0),(1,1),(1,1)),mode='constant')\n",
    "        output = np.zeros((batch_size,self.out_channels,H_out,W_out))\n",
    "\n",
    "        for b in range(batch_size):\n",
    "            for c in range(self.out_channels):\n",
    "                for i in range(H_out):\n",
    "                    for j in range(W_out):\n",
    "                        region = X_padded[b,:,i*self.stride:i*self.stride + self.kernel_size,j*self.stride:j*self.stride+self.kernel_size]\n",
    "                        output[b,c,i,j] = np.sum(region * self.weights[c])\n",
    "\n",
    "        return output\n"
   ]
  },
  {
   "cell_type": "code",
   "execution_count": 75,
   "metadata": {},
   "outputs": [],
   "source": [
    "class ReLU():\n",
    "    def __call__(self, X):\n",
    "        return self.forward(X)\n",
    "    def forward(self,X):\n",
    "        return np.maximum(0,X)\n",
    "    \n",
    "    def backward(self,grad_output):\n",
    "        grad = grad_output*(self.input > 0)\n",
    "        return grad"
   ]
  },
  {
   "cell_type": "code",
   "execution_count": 37,
   "metadata": {},
   "outputs": [],
   "source": [
    "class MaxPooling2D():\n",
    "    def __init__(self,kernel_size,stride):\n",
    "        self.kernel_size = kernel_size\n",
    "        self.stride = stride\n",
    "\n",
    "    def forward(self,X):\n",
    "        (batch_size,channels,h,w) = X.shape\n",
    "\n",
    "        H_out = (h - self.kernel_size) // self.stride + 1\n",
    "        W_out = (w - self.kernel_size) // self.stride + 1\n",
    "\n",
    "        output = np.zeros((batch_size,channels,H_out,W_out))\n",
    "\n",
    "        for b in range(batch_size):\n",
    "            for c in range(channels):\n",
    "                for i in range(0,H_out):\n",
    "                    for j in range(0,W_out):\n",
    "                        region = X[b,:,i*self.stride : i*self.stride + self.kernel_size, j*self.stride : j*self.stride + self.kernel_size]\n",
    "                        output[b,c,i,j] = np.max(region)\n",
    "\n",
    "        return output"
   ]
  },
  {
   "cell_type": "code",
   "execution_count": 38,
   "metadata": {},
   "outputs": [],
   "source": [
    "class Flatten:\n",
    "    def forward(self, X):\n",
    "        return X.reshape(X.shape[0], -1)"
   ]
  },
  {
   "cell_type": "code",
   "execution_count": 54,
   "metadata": {},
   "outputs": [],
   "source": [
    "class Softmax():\n",
    "    def __call__(self,x):\n",
    "        return self.forward(x)\n",
    "    def forward(self,X):\n",
    "        exp_x = np.exp(X - np.max(X,axis=1,keepdims=True))\n",
    "        return exp_x / np.sum(exp_x,axis=1,keepdims=True)"
   ]
  },
  {
   "cell_type": "code",
   "execution_count": 74,
   "metadata": {},
   "outputs": [],
   "source": [
    "class Dense():\n",
    "    def __init__(self,input_dim,output_dim,learning_rate = 0.01):\n",
    "        self.weights = np.random.randn(input,output_dim) * np.sqrt(2. / input_dim)\n",
    "        self.bias = np.zeros((1,output_dim))\n",
    "        self.learning_rate = learning_rate\n",
    "\n",
    "    def __call__(self,X):\n",
    "        self.input = X\n",
    "        return self.forward(X)\n",
    "\n",
    "    def forward(self,X):\n",
    "        return np.dot(X,self.weights) + self.bias\n",
    "    \n",
    "    def backward(self,grad_output):\n",
    "\n",
    "        grad_weights = self.input.T @ grad_output\n",
    "        grad_bias = np.sum(grad_output,axis=0,keepdims=True)\n",
    "\n",
    "        self.weights-=self.learning_rate*grad_weights\n",
    "        self.bias-=self.learning_rate*grad_bias\n",
    "\n",
    "        return grad_output@self.weights.T"
   ]
  },
  {
   "cell_type": "code",
   "execution_count": 72,
   "metadata": {},
   "outputs": [],
   "source": [
    "class MLP():\n",
    "    def __init__(self,input_dim,hidden_layers,output_dim):\n",
    "        self.layers = []\n",
    "        self.layers.append(Dense(input_dim,hidden_layers[0]))\n",
    "        self.layers.append(ReLU())\n",
    "\n",
    "        for i in range(len(hidden_layers) - 1):\n",
    "            self.layers.append(Dense(hidden_layers[i],hidden_layers[i+1]))\n",
    "            self.layers.append(ReLU())\n",
    "\n",
    "        self.layers.append(Dense(hidden_layers[-1],output_dim))\n",
    "        self.layers.append(Softmax())\n",
    "\n",
    "    def __call__(self, X):\n",
    "        return self.forward(X)\n",
    "\n",
    "    def forward(self,X):\n",
    "        for layer in self.layers:\n",
    "            print(X.shape)\n",
    "            X = layer(X)\n",
    "        return X"
   ]
  },
  {
   "cell_type": "code",
   "execution_count": 73,
   "metadata": {},
   "outputs": [
    {
     "name": "stdout",
     "output_type": "stream",
     "text": [
      "(1, 2048)\n",
      "(1, 128)\n",
      "(1, 128)\n",
      "(1, 64)\n",
      "(1, 64)\n",
      "(1, 10)\n",
      "MLP Output Shape: (1, 10)\n",
      "MLP Output (Softmax Probabilities): [[0.00813667 0.06357433 0.07079303 0.01003157 0.09055702 0.1995619\n",
      "  0.12084198 0.13783279 0.24899346 0.04967727]]\n"
     ]
    }
   ],
   "source": [
    "# Example Input (Flattened from CNN)\n",
    "X_flat = np.random.randn(1, 8 * 16 * 16)  # 1 sample, 2048 features\n",
    "\n",
    "# Define MLP (Input: 2048, Hidden: [128, 64], Output: 10)\n",
    "mlp = MLP(input_dim=2048, hidden_layers=[128, 64], output_dim=10)\n",
    "\n",
    "# Forward Pass\n",
    "output = mlp(X_flat)\n",
    "\n",
    "print(\"MLP Output Shape:\", output.shape)  # Expected: (1, 10)\n",
    "print(\"MLP Output (Softmax Probabilities):\", output)"
   ]
  },
  {
   "cell_type": "code",
   "execution_count": null,
   "metadata": {},
   "outputs": [],
   "source": []
  }
 ],
 "metadata": {
  "kernelspec": {
   "display_name": ".venv",
   "language": "python",
   "name": "python3"
  },
  "language_info": {
   "codemirror_mode": {
    "name": "ipython",
    "version": 3
   },
   "file_extension": ".py",
   "mimetype": "text/x-python",
   "name": "python",
   "nbconvert_exporter": "python",
   "pygments_lexer": "ipython3",
   "version": "3.12.7"
  }
 },
 "nbformat": 4,
 "nbformat_minor": 2
}
